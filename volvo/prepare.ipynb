{
 "cells": [
  {
   "cell_type": "code",
   "execution_count": 1,
   "id": "4134fa4c-f166-4e88-b44b-cb3e92b0c6b5",
   "metadata": {},
   "outputs": [
    {
     "name": "stderr",
     "output_type": "stream",
     "text": [
      "/home/ubuntu/project/pocs/volvo/env/lib/python3.10/site-packages/tqdm/auto.py:21: TqdmWarning: IProgress not found. Please update jupyter and ipywidgets. See https://ipywidgets.readthedocs.io/en/stable/user_install.html\n",
      "  from .autonotebook import tqdm as notebook_tqdm\n",
      "2024-01-16 08:37:16,461\tINFO util.py:154 -- Missing packages: ['ipywidgets']. Run `pip install -U ipywidgets`, then restart the notebook server for rich notebook output.\n"
     ]
    },
    {
     "name": "stdout",
     "output_type": "stream",
     "text": [
      "\u001b[32m 2024-Jan-16 08:37:16.46\u001b[0m| \u001b[1mINFO    \u001b[0m | \u001b[36mip-172-31-16-121\u001b[0m| \u001b[36m9eb708c6-a9d9-4c83-ab08-80146246024d\u001b[0m| \u001b[36msuperduperdb.base.build\u001b[0m:\u001b[36m60  \u001b[0m | \u001b[1mData Client is ready. MongoClient(host=['localhost:27017'], document_class=dict, tz_aware=False, connect=True, serverselectiontimeoutms=5000)\u001b[0m\n",
      "\u001b[32m 2024-Jan-16 08:37:16.47\u001b[0m| \u001b[1mINFO    \u001b[0m | \u001b[36mip-172-31-16-121\u001b[0m| \u001b[36m9eb708c6-a9d9-4c83-ab08-80146246024d\u001b[0m| \u001b[36msuperduperdb.base.build\u001b[0m:\u001b[36m35  \u001b[0m | \u001b[1mConnecting to Metadata Client with engine:  MongoClient(host=['localhost:27017'], document_class=dict, tz_aware=False, connect=True, serverselectiontimeoutms=5000)\u001b[0m\n",
      "\u001b[32m 2024-Jan-16 08:37:16.47\u001b[0m| \u001b[1mINFO    \u001b[0m | \u001b[36mip-172-31-16-121\u001b[0m| \u001b[36m9eb708c6-a9d9-4c83-ab08-80146246024d\u001b[0m| \u001b[36msuperduperdb.base.datalayer\u001b[0m:\u001b[36m80  \u001b[0m | \u001b[1mBuilding Data Layer\u001b[0m\n"
     ]
    }
   ],
   "source": [
    "import os\n",
    "from superduperdb import superduper\n",
    "from superduperdb.backends.mongodb import Collection\n",
    "\n",
    "mongodb_uri = os.getenv(\"MONGODB_URI\", \"mongodb://localhost:27017/volvo\")\n",
    "\n",
    "# SuperDuperDB, now handles your MongoDB database\n",
    "# It just super dupers your database \n",
    "db = superduper(mongodb_uri, artifact_store='filesystem://data/artifacts/', downloads_folder='./data/downloads')"
   ]
  },
  {
   "cell_type": "markdown",
   "id": "c6a7d5fb-6d46-45b5-b6d3-5daa65d8164c",
   "metadata": {},
   "source": [
    "## Load Data"
   ]
  },
  {
   "cell_type": "code",
   "execution_count": 2,
   "id": "2ef39395-2a98-45b7-a109-d9594c9d7711",
   "metadata": {},
   "outputs": [
    {
     "name": "stderr",
     "output_type": "stream",
     "text": [
      "[2024-01-16 08:37:20] pikepdf._core INFO pikepdf C++ to Python logger bridge initialized\n"
     ]
    },
    {
     "name": "stdout",
     "output_type": "stream",
     "text": [
      "\u001b[32m 2024-Jan-16 08:38:19.78\u001b[0m| \u001b[1mINFO    \u001b[0m | \u001b[36mip-172-31-16-121\u001b[0m| \u001b[36m9eb708c6-a9d9-4c83-ab08-80146246024d\u001b[0m| \u001b[36msuperduperdb.backends.local.compute\u001b[0m:\u001b[36m32  \u001b[0m | \u001b[1mSubmitting job. function:<function callable_job at 0x7fe1f8134040>\u001b[0m\n",
      "\u001b[32m 2024-Jan-16 08:38:20.03\u001b[0m| \u001b[32m\u001b[1mSUCCESS \u001b[0m | \u001b[36mip-172-31-16-121\u001b[0m| \u001b[36m9eb708c6-a9d9-4c83-ab08-80146246024d\u001b[0m| \u001b[36msuperduperdb.backends.local.compute\u001b[0m:\u001b[36m38  \u001b[0m | \u001b[32m\u001b[1mJob submitted.  function:<function callable_job at 0x7fe1f8134040> future:ec1cfd52-754f-4880-b373-d6dd8595e2a2\u001b[0m\n"
     ]
    },
    {
     "data": {
      "text/plain": [
       "([ObjectId('65a6407b8b8f084ae65a2e69')],\n",
       " TaskWorkflow(database=<superduperdb.base.datalayer.Datalayer object at 0x7fe1a1498880>, G=<networkx.classes.digraph.DiGraph object at 0x7fe0d513a5c0>))"
      ]
     },
     "execution_count": 2,
     "metadata": {},
     "output_type": "execute_result"
    }
   ],
   "source": [
    "from superduperdb.ext.unstructured.encoder import unstructured_encoder\n",
    "from superduperdb import Document\n",
    "\n",
    "TEST_FILE = \"volvo.pdf\"\n",
    "db.add(unstructured_encoder)\n",
    "collection = Collection('source')\n",
    "to_insert = [Document({\"elements\": unstructured_encoder(TEST_FILE)})]\n",
    "db.execute(collection.insert_many(to_insert))"
   ]
  },
  {
   "cell_type": "markdown",
   "id": "9cd9a364-bbce-4e5f-bd2b-dd6e7e48ec02",
   "metadata": {},
   "source": [
    "## Chunk Model"
   ]
  },
  {
   "cell_type": "code",
   "execution_count": 3,
   "id": "cc99dade-1534-4dbb-91b3-c01eb64f73b0",
   "metadata": {},
   "outputs": [
    {
     "name": "stderr",
     "output_type": "stream",
     "text": [
      "1it [00:00,  2.56it/s]\n"
     ]
    },
    {
     "name": "stdout",
     "output_type": "stream",
     "text": [
      "\u001b[32m 2024-Jan-16 08:38:22.93\u001b[0m| \u001b[1mINFO    \u001b[0m | \u001b[36mip-172-31-16-121\u001b[0m| \u001b[36m9eb708c6-a9d9-4c83-ab08-80146246024d\u001b[0m| \u001b[36msuperduperdb.components.model\u001b[0m:\u001b[36m477 \u001b[0m | \u001b[1mAdding 1 model outputs to `db`\u001b[0m\n"
     ]
    },
    {
     "data": {
      "text/plain": [
       "([None],\n",
       " Listener(identifier='chunk/elements', key='elements', model=Model(identifier='chunk', encoder=None, output_schema=Schema(identifier='myschema', fields={'txt': 'string', '_fold': FieldType(identifier='String')}), flatten=True, preprocess=None, postprocess=None, collate_fn=None, batch_predict=False, takes_context=False, metrics=(), model_update_kwargs={'document_embedded': False}, validation_sets=None, predict_X=None, predict_select=None, predict_max_chunk_size=None, predict_kwargs=None, object=<Artifact artifact=<function get_chunks at 0x7fe1827ad870> serializer=dill>, model_to_device_method=None, metric_values={}, predict_method=None, serializer='dill', device='cpu', preferred_devices=('cuda', 'mps', 'cpu'), training_configuration=None, train_X=None, train_y=None, train_select=None), select=<superduperdb.backends.mongodb.query.MongoCompoundSelect[\n",
       "     \u001b[92m\u001b[1msource.find({'_id': \"{'$in': '[65a6407b8b8f084ae65a2e69]'}\"}, {})\u001b[0m}\n",
       " ] object at 0x7fe0ce3caf20>, active=True, predict_kwargs={}))"
      ]
     },
     "execution_count": 3,
     "metadata": {},
     "output_type": "execute_result"
    }
   ],
   "source": [
    "from collections import defaultdict\n",
    "from superduperdb import Listener, Model, Schema, vector\n",
    "\n",
    "STRIDE = 3  # stride in numbers of lines\n",
    "WINDOW = 10  # length of window in numbers of lines\n",
    "MAX_NUM = 999999999\n",
    "\n",
    "def merge_metadatas(metadatas):\n",
    "\n",
    "    if not metadatas:\n",
    "        return {}\n",
    "    p1, p2, p3, p4 = (MAX_NUM, MAX_NUM), (MAX_NUM, 0), (0, 0), (0, MAX_NUM)\n",
    "    for metadata in metadatas:\n",
    "        p1_, p2_, p3_, p4_ = metadata['coordinates']['points']\n",
    "        p1 = (min(p1[0], p1_[0]), min(p1[1], p1_[1]))\n",
    "        p2 = (min(p2[0], p2_[0]), max(p2[1], p2_[1]))\n",
    "        p3 = (max(p3[0], p3_[0]), max(p3[1], p3_[1]))\n",
    "        p4 = (max(p4[0], p4_[0]), min(p4[1], p4_[1]))\n",
    "    points = (p1, p2, p3, p4)\n",
    "    page_number = metadata['page_number']\n",
    "    return {'points': points, 'page_number': page_number}\n",
    "\n",
    "def create_chunk_and_metadatas(page_elements):\n",
    "    datas = []\n",
    "    for i in range(0, len(page_elements), STRIDE):\n",
    "        windown_elements = page_elements[i : i + WINDOW]\n",
    "        metadatas = [e.metadata.to_dict() for e in windown_elements]\n",
    "        chunk = \"\\n\".join([e.text for e in windown_elements])\n",
    "        datas.append({\"txt\": chunk, 'metadata': merge_metadatas(metadatas)})\n",
    "    return datas\n",
    "\n",
    "def get_chunks(elements):\n",
    "    from collections import defaultdict\n",
    "\n",
    "    pages_elements = defaultdict(list)\n",
    "    for element in elements:\n",
    "        pages_elements[element.metadata.page_number].append(element)\n",
    "\n",
    "    all_chunks_and_links = sum(\n",
    "        [\n",
    "            create_chunk_and_metadatas(page_elements)\n",
    "            for _, page_elements in pages_elements.items()\n",
    "        ],\n",
    "        [],\n",
    "    )\n",
    "    return all_chunks_and_links\n",
    "\n",
    "chunk_model = Model(\n",
    "    identifier=\"chunk\",\n",
    "    object=get_chunks,\n",
    "    flatten=True,\n",
    "    model_update_kwargs={\"document_embedded\": False},\n",
    "    output_schema=Schema(identifier=\"myschema\", fields={\"txt\": \"string\"}),\n",
    ")\n",
    "\n",
    "\n",
    "\n",
    "db.add(\n",
    "    Listener(\n",
    "        model=chunk_model,  # Assuming video2images is your SuperDuperDB model\n",
    "        select=collection.find(),\n",
    "        key=\"elements\",\n",
    "    )\n",
    ")"
   ]
  },
  {
   "cell_type": "markdown",
   "id": "5d6f3e63-a4a1-4041-a59c-e9a8db14694c",
   "metadata": {},
   "source": [
    "## Create a vector-search Index"
   ]
  },
  {
   "cell_type": "code",
   "execution_count": 4,
   "id": "2f2f50fe-16bc-453d-b47c-11d508213e39",
   "metadata": {},
   "outputs": [
    {
     "name": "stderr",
     "output_type": "stream",
     "text": [
      "[2024-01-16 08:38:23] sentence_transformers.SentenceTransformer INFO Load pretrained SentenceTransformer: BAAI/bge-large-en-v1.5\n",
      "[2024-01-16 08:38:23] sentence_transformers.SentenceTransformer INFO Use pytorch device: cuda\n",
      "3661it [00:00, 28933.70it/s]\n"
     ]
    },
    {
     "name": "stdout",
     "output_type": "stream",
     "text": [
      "\u001b[32m 2024-Jan-16 08:38:28.02\u001b[0m| \u001b[1mINFO    \u001b[0m | \u001b[36mip-172-31-16-121\u001b[0m| \u001b[36m9eb708c6-a9d9-4c83-ab08-80146246024d\u001b[0m| \u001b[36msuperduperdb.components.model\u001b[0m:\u001b[36m417 \u001b[0m | \u001b[1mComputing chunk 0/3\u001b[0m\n"
     ]
    },
    {
     "name": "stderr",
     "output_type": "stream",
     "text": [
      "Batches: 100%|███████████████████████████████████████████████████████████████████████████████████████████████████████████████████████████████████████| 32/32 [00:07<00:00,  4.09it/s]\n"
     ]
    },
    {
     "name": "stdout",
     "output_type": "stream",
     "text": [
      "\u001b[32m 2024-Jan-16 08:38:36.29\u001b[0m| \u001b[1mINFO    \u001b[0m | \u001b[36mip-172-31-16-121\u001b[0m| \u001b[36m9eb708c6-a9d9-4c83-ab08-80146246024d\u001b[0m| \u001b[36msuperduperdb.components.model\u001b[0m:\u001b[36m477 \u001b[0m | \u001b[1mAdding 1000 model outputs to `db`\u001b[0m\n",
      "\u001b[32m 2024-Jan-16 08:38:36.59\u001b[0m| \u001b[1mINFO    \u001b[0m | \u001b[36mip-172-31-16-121\u001b[0m| \u001b[36m9eb708c6-a9d9-4c83-ab08-80146246024d\u001b[0m| \u001b[36msuperduperdb.components.model\u001b[0m:\u001b[36m417 \u001b[0m | \u001b[1mComputing chunk 1/3\u001b[0m\n"
     ]
    },
    {
     "name": "stderr",
     "output_type": "stream",
     "text": [
      "Batches: 100%|███████████████████████████████████████████████████████████████████████████████████████████████████████████████████████████████████████| 32/32 [00:05<00:00,  6.05it/s]\n"
     ]
    },
    {
     "name": "stdout",
     "output_type": "stream",
     "text": [
      "\u001b[32m 2024-Jan-16 08:38:42.01\u001b[0m| \u001b[1mINFO    \u001b[0m | \u001b[36mip-172-31-16-121\u001b[0m| \u001b[36m9eb708c6-a9d9-4c83-ab08-80146246024d\u001b[0m| \u001b[36msuperduperdb.components.model\u001b[0m:\u001b[36m477 \u001b[0m | \u001b[1mAdding 1000 model outputs to `db`\u001b[0m\n",
      "\u001b[32m 2024-Jan-16 08:38:42.30\u001b[0m| \u001b[1mINFO    \u001b[0m | \u001b[36mip-172-31-16-121\u001b[0m| \u001b[36m9eb708c6-a9d9-4c83-ab08-80146246024d\u001b[0m| \u001b[36msuperduperdb.components.model\u001b[0m:\u001b[36m417 \u001b[0m | \u001b[1mComputing chunk 2/3\u001b[0m\n"
     ]
    },
    {
     "name": "stderr",
     "output_type": "stream",
     "text": [
      "Batches: 100%|███████████████████████████████████████████████████████████████████████████████████████████████████████████████████████████████████████| 32/32 [00:04<00:00,  6.54it/s]\n"
     ]
    },
    {
     "name": "stdout",
     "output_type": "stream",
     "text": [
      "\u001b[32m 2024-Jan-16 08:38:47.54\u001b[0m| \u001b[1mINFO    \u001b[0m | \u001b[36mip-172-31-16-121\u001b[0m| \u001b[36m9eb708c6-a9d9-4c83-ab08-80146246024d\u001b[0m| \u001b[36msuperduperdb.components.model\u001b[0m:\u001b[36m477 \u001b[0m | \u001b[1mAdding 1000 model outputs to `db`\u001b[0m\n",
      "\u001b[32m 2024-Jan-16 08:38:47.81\u001b[0m| \u001b[1mINFO    \u001b[0m | \u001b[36mip-172-31-16-121\u001b[0m| \u001b[36m9eb708c6-a9d9-4c83-ab08-80146246024d\u001b[0m| \u001b[36msuperduperdb.components.model\u001b[0m:\u001b[36m417 \u001b[0m | \u001b[1mComputing chunk 3/3\u001b[0m\n"
     ]
    },
    {
     "name": "stderr",
     "output_type": "stream",
     "text": [
      "Batches: 100%|███████████████████████████████████████████████████████████████████████████████████████████████████████████████████████████████████████| 21/21 [00:05<00:00,  3.57it/s]\n"
     ]
    },
    {
     "name": "stdout",
     "output_type": "stream",
     "text": [
      "\u001b[32m 2024-Jan-16 08:38:53.79\u001b[0m| \u001b[1mINFO    \u001b[0m | \u001b[36mip-172-31-16-121\u001b[0m| \u001b[36m9eb708c6-a9d9-4c83-ab08-80146246024d\u001b[0m| \u001b[36msuperduperdb.components.model\u001b[0m:\u001b[36m477 \u001b[0m | \u001b[1mAdding 661 model outputs to `db`\u001b[0m\n"
     ]
    },
    {
     "data": {
      "text/plain": [
       "([None],\n",
       " VectorIndex(identifier='vector-index', indexing_listener=Listener(identifier='embedding/elements', key='_outputs.elements.chunk', model=Model(identifier='embedding', encoder=Encoder(identifier='vector[384]', decoder=None, encoder=None, shape=(384,), load_hybrid=True), output_schema=None, flatten=False, preprocess=<Artifact artifact=<function <lambda> at 0x7fe0d15e7640> serializer=dill>, postprocess=<Artifact artifact=<function <lambda> at 0x7fe0ce54bf40> serializer=dill>, collate_fn=None, batch_predict=True, takes_context=False, metrics=(), model_update_kwargs={}, validation_sets=None, predict_X=None, predict_select=None, predict_max_chunk_size=None, predict_kwargs=None, object=<Artifact artifact=SentenceTransformer(\n",
       "   (0): Transformer({'max_seq_length': 512, 'do_lower_case': True}) with Transformer model: BertModel \n",
       "   (1): Pooling({'word_embedding_dimension': 1024, 'pooling_mode_cls_token': True, 'pooling_mode_mean_tokens': False, 'pooling_mode_max_tokens': False, 'pooling_mode_mean_sqrt_len_tokens': False})\n",
       "   (2): Normalize()\n",
       " ) serializer=dill>, model_to_device_method=None, metric_values={}, predict_method='encode', serializer='dill', device='cpu', preferred_devices=('cuda', 'mps', 'cpu'), training_configuration=None, train_X=None, train_y=None, train_select=None), select=<superduperdb.backends.mongodb.query.MongoCompoundSelect[\n",
       "     \u001b[92m\u001b[1m_outputs.elements.chunk.elements.chunk.find({'_id': \"{'$in': '[65a6407e8b8f084ae65a3a27, 65a6407e8b8f084ae65a3a28, 65a6407e8b8f084ae65a3a29, 65a6407e8b8f084ae65a3a2a, 65a6407e8b8f084ae65a3a2b, 65a6407e8b8f084ae65a3a2c, 65a6407e8b8f084ae65a3a2d, 65a6407e8b8f084ae65a3a2e, 65a6407e8b8f084ae65a3a2f, 65a6407e8b8f084ae65a3a30, 65a6407e8b8f084ae65a3a31, 65a6407e8b8f084ae65a3a32, 65a6407e8b8f084ae65a3a33, 65a6407e8b8f084ae65a3a34, 65a6407e8b8f084ae65a3a35, 65a6407e8b8f084ae65a3a36, 65a6407e8b8f084ae65a3a37, 65a6407e8b8f084ae65a3a38, 65a6407e8b8f084ae65a3a39, 65a6407e8b8f084ae65a3a3a, 65a6407e8b8f084ae65a3a3b, 65a6407e8b8f084ae65a3a3c, 65a6407e8b8f084ae65a3a3d, 65a6407e8b8f084ae65a3a3e, 65a6407e8b8f084ae65a3a3f, 65a6407e8b8f084ae65a3a40, 65a6407e8b8f084ae65a3a41, 65a6407e8b8f084ae65a3a42, 65a6407e8b8f084ae65a3a43, 65a6407e8b8f084ae65a3a44, 65a6407e8b8f084ae65a3a45, 65a6407e8b8f084ae65a3a46, 65a6407e8b8f084ae65a3a47, 65a6407e8b8f084ae65a3a48, 65a6407e8b8f084ae65a3a49, 65a6407e8b8f084ae65a3a4a, 65a6407e8b8f084ae65a3a4b, 65a6407e8b8f084ae65a3a4c, 65a6407e8b8f084ae65a3a4d, 65a6407e8b8f084ae65a3a4e, 65a6407e8b8f084ae65a3a4f, 65a6407e8b8f084ae65a3a50, 65a6407e8b8f084ae65a3a51, 65a6407e8b8f084ae65a3a52, 65a6407e8b8f084ae65a3a53, 65a6407e8b8f084ae65a3a54, 65a6407e8b8f084ae65a3a55, 65a6407e8b8f084ae65a3a56, 65a6407e8b8f084ae65a3a57, 65a6407e8b8f084ae65a3a58, 65a6407e8b8f084ae65a3a59, 65a6407e8b8f084ae65a3a5a, 65a6407e8b8f084ae65a3a5b, 65a6407e8b8f084ae65a3a5c, 65a6407e8b8f084ae65a3a5d, 65a6407e8b8f084ae65a3a5e, 65a6407e8b8f084ae65a3a5f, 65a6407e8b8f084ae65a3a60, 65a6407e8b8f084ae65a3a61, 65a6407e8b8f084ae65a3a62, 65a6407e8b8f084ae65a3a63, 65a6407e8b8f084ae65a3a64, 65a6407e8b8f084ae65a3a65, 65a6407e8b8f084ae65a3a66, 65a6407e8b8f084ae65a3a67, 65a6407e8b8f084ae65a3a68, 65a6407e8b8f084ae65a3a69, 65a6407e8b8f084ae65a3a6a, 65a6407e8b8f084ae65a3a6b, 65a6407e8b8f084ae65a3a6c, 65a6407e8b8f084ae65a3a6d, 65a6407e8b8f084ae65a3a6e, 65a6407e8b8f084ae65a3a6f, 65a6407e8b8f084ae65a3a70, 65a6407e8b8f084ae65a3a71, 65a6407e8b8f084ae65a3a72, 65a6407e8b8f084ae65a3a73, 65a6407e8b8f084ae65a3a74, 65a6407e8b8f084ae65a3a75, 65a6407e8b8f084ae65a3a76, 65a6407e8b8f084ae65a3a77, 65a6407e8b8f084ae65a3a78, 65a6407e8b8f084ae65a3a79, 65a6407e8b8f084ae65a3a7a, 65a6407e8b8f084ae65a3a7b, 65a6407e8b8f084ae65a3a7c, 65a6407e8b8f084ae65a3a7d, 65a6407e8b8f084ae65a3a7e, 65a6407e8b8f084ae65a3a7f, 65a6407e8b8f084ae65a3a80, 65a6407e8b8f084ae65a3a81, 65a6407e8b8f084ae65a3a82, 65a6407e8b8f084ae65a3a83, 65a6407e8b8f084ae65a3a84, 65a6407e8b8f084ae65a3a85, 65a6407e8b8f084ae65a3a86, 65a6407e8b8f084ae65a3a87, 65a6407e8b8f084ae65a3a88, 65a6407e8b8f084ae65a3a89, 65a6407e8b8f084ae65a3a8a, 65a6407e8b8f084ae65a3a8b, 65a6407e8b8f084ae65a3a8c, 65a6407e8b8f084ae65a3a8d, 65a6407e8b8f084ae65a3a8e, 65a6407e8b8f084ae65a3a8f, 65a6407e8b8f084ae65a3a90, 65a6407e8b8f084ae65a3a91, 65a6407e8b8f084ae65a3a92, 65a6407e8b8f084ae65a3a93, 65a6407e8b8f084ae65a3a94, 65a6407e8b8f084ae65a3a95, 65a6407e8b8f084ae65a3a96, 65a6407e8b8f084ae65a3a97, 65a6407e8b8f084ae65a3a98, 65a6407e8b8f084ae65a3a99, 65a6407e8b8f084ae65a3a9a, 65a6407e8b8f084ae65a3a9b, 65a6407e8b8f084ae65a3a9c, 65a6407e8b8f084ae65a3a9d, 65a6407e8b8f084ae65a3a9e, 65a6407e8b8f084ae65a3a9f, 65a6407e8b8f084ae65a3aa0, 65a6407e8b8f084ae65a3aa1, 65a6407e8b8f084ae65a3aa2, 65a6407e8b8f084ae65a3aa3, 65a6407e8b8f084ae65a3aa4, 65a6407e8b8f084ae65a3aa5, 65a6407e8b8f084ae65a3aa6, 65a6407e8b8f084ae65a3aa7, 65a6407e8b8f084ae65a3aa8, 65a6407e8b8f084ae65a3aa9, 65a6407e8b8f084ae65a3aaa, 65a6407e8b8f084ae65a3aab, 65a6407e8b8f084ae65a3aac, 65a6407e8b8f084ae65a3aad, 65a6407e8b8f084ae65a3aae, 65a6407e8b8f084ae65a3aaf, 65a6407e8b8f084ae65a3ab0, 65a6407e8b8f084ae65a3ab1, 65a6407e8b8f084ae65a3ab2, 65a6407e8b8f084ae65a3ab3, 65a6407e8b8f084ae65a3ab4, 65a6407e8b8f084ae65a3ab5, 65a6407e8b8f084ae65a3ab6, 65a6407e8b8f084ae65a3ab7, 65a6407e8b8f084ae65a3ab8, 65a6407e8b8f084ae65a3ab9, 65a6407e8b8f084ae65a3aba, 65a6407e8b8f084ae65a3abb, 65a6407e8b8f084ae65a3abc, 65a6407e8b8f084ae65a3abd, 65a6407e8b8f084ae65a3abe, 65a6407e8b8f084ae65a3abf, 65a6407e8b8f084ae65a3ac0, 65a6407e8b8f084ae65a3ac1, 65a6407e8b8f084ae65a3ac2, 65a6407e8b8f084ae65a3ac3, 65a6407e8b8f084ae65a3ac4, 65a6407e8b8f084ae65a3ac5, 65a6407e8b8f084ae65a3ac6, 65a6407e8b8f084ae65a3ac7, 65a6407e8b8f084ae65a3ac8, 65a6407e8b8f084ae65a3ac9, 65a6407e8b8f084ae65a3aca, 65a6407e8b8f084ae65a3acb, 65a6407e8b8f084ae65a3acc, 65a6407e8b8f084ae65a3acd, 65a6407e8b8f084ae65a3ace, 65a6407e8b8f084ae65a3acf, 65a6407e8b8f084ae65a3ad0, 65a6407e8b8f084ae65a3ad1, 65a6407e8b8f084ae65a3ad2, 65a6407e8b8f084ae65a3ad3, 65a6407e8b8f084ae65a3ad4, 65a6407e8b8f084ae65a3ad5, 65a6407e8b8f084ae65a3ad6, 65a6407e8b8f084ae65a3ad7, 65a6407e8b8f084ae65a3ad8, 65a6407e8b8f084ae65a3ad9, 65a6407e8b8f084ae65a3ada, 65a6407e8b8f084ae65a3adb, 65a6407e8b8f084ae65a3adc, 65a6407e8b8f084ae65a3add, 65a6407e8b8f084ae65a3ade, 65a6407e8b8f084ae65a3adf, 65a6407e8b8f084ae65a3ae0, 65a6407e8b8f084ae65a3ae1, 65a6407e8b8f084ae65a3ae2, 65a6407e8b8f084ae65a3ae3, 65a6407e8b8f084ae65a3ae4, 65a6407e8b8f084ae65a3ae5, 65a6407e8b8f084ae65a3ae6, 65a6407e8b8f084ae65a3ae7, 65a6407e8b8f084ae65a3ae8, 65a6407e8b8f084ae65a3ae9, 65a6407e8b8f084ae65a3aea, 65a6407e8b8f084ae65a3aeb, 65a6407e8b8f084ae65a3aec, 65a6407e8b8f084ae65a3aed, 65a6407e8b8f084ae65a3aee, 65a6407e8b8f084ae65a3aef, 65a6407e8b8f084ae65a3af0, 65a6407e8b8f084ae65a3af1, 65a6407e8b8f084ae65a3af2, 65a6407e8b8f084ae65a3af3, 65a6407e8b8f084ae65a3af4, 65a6407e8b8f084ae65a3af5, 65a6407e8b8f084ae65a3af6, 65a6407e8b8f084ae65a3af7, 65a6407e8b8f084ae65a3af8, 65a6407e8b8f084ae65a3af9, 65a6407e8b8f084ae65a3afa, 65a6407e8b8f084ae65a3afb, 65a6407e8b8f084ae65a3afc, 65a6407e8b8f084ae65a3afd, 65a6407e8b8f084ae65a3afe, 65a6407e8b8f084ae65a3aff, 65a6407e8b8f084ae65a3b00, 65a6407e8b8f084ae65a3b01, 65a6407e8b8f084ae65a3b02, 65a6407e8b8f084ae65a3b03, 65a6407e8b8f084ae65a3b04, 65a6407e8b8f084ae65a3b05, 65a6407e8b8f084ae65a3b06, 65a6407e8b8f084ae65a3b07, 65a6407e8b8f084ae65a3b08, 65a6407e8b8f084ae65a3b09, 65a6407e8b8f084ae65a3b0a, 65a6407e8b8f084ae65a3b0b, 65a6407e8b8f084ae65a3b0c, 65a6407e8b8f084ae65a3b0d, 65a6407e8b8f084ae65a3b0e, 65a6407e8b8f084ae65a3b0f, 65a6407e8b8f084ae65a3b10, 65a6407e8b8f084ae65a3b11, 65a6407e8b8f084ae65a3b12, 65a6407e8b8f084ae65a3b13, 65a6407e8b8f084ae65a3b14, 65a6407e8b8f084ae65a3b15, 65a6407e8b8f084ae65a3b16, 65a6407e8b8f084ae65a3b17, 65a6407e8b8f084ae65a3b18, 65a6407e8b8f084ae65a3b19, 65a6407e8b8f084ae65a3b1a, 65a6407e8b8f084ae65a3b1b, 65a6407e8b8f084ae65a3b1c, 65a6407e8b8f084ae65a3b1d, 65a6407e8b8f084ae65a3b1e, 65a6407e8b8f084ae65a3b1f, 65a6407e8b8f084ae65a3b20, 65a6407e8b8f084ae65a3b21, 65a6407e8b8f084ae65a3b22, 65a6407e8b8f084ae65a3b23, 65a6407e8b8f084ae65a3b24, 65a6407e8b8f084ae65a3b25, 65a6407e8b8f084ae65a3b26, 65a6407e8b8f084ae65a3b27, 65a6407e8b8f084ae65a3b28, 65a6407e8b8f084ae65a3b29, 65a6407e8b8f084ae65a3b2a, 65a6407e8b8f084ae65a3b2b, 65a6407e8b8f084ae65a3b2c, 65a6407e8b8f084ae65a3b2d, 65a6407e8b8f084ae65a3b2e, 65a6407e8b8f084ae65a3b2f, 65a6407e8b8f084ae65a3b30, 65a6407e8b8f084ae65a3b31, 65a6407e8b8f084ae65a3b32, 65a6407e8b8f084ae65a3b33, 65a6407e8b8f084ae65a3b34, 65a6407e8b8f084ae65a3b35, 65a6407e8b8f084ae65a3b36, 65a6407e8b8f084ae65a3b37, 65a6407e8b8f084ae65a3b38, 65a6407e8b8f084ae65a3b39, 65a6407e8b8f084ae65a3b3a, 65a6407e8b8f084ae65a3b3b, 65a6407e8b8f084ae65a3b3c, 65a6407e8b8f084ae65a3b3d, 65a6407e8b8f084ae65a3b3e, 65a6407e8b8f084ae65a3b3f, 65a6407e8b8f084ae65a3b40, 65a6407e8b8f084ae65a3b41, 65a6407e8b8f084ae65a3b42, 65a6407e8b8f084ae65a3b43, 65a6407e8b8f084ae65a3b44, 65a6407e8b8f084ae65a3b45, 65a6407e8b8f084ae65a3b46, 65a6407e8b8f084ae65a3b47, 65a6407e8b8f084ae65a3b48, 65a6407e8b8f084ae65a3b49, 65a6407e8b8f084ae65a3b4a, 65a6407e8b8f084ae65a3b4b, 65a6407e8b8f084ae65a3b4c, 65a6407e8b8f084ae65a3b4d, 65a6407e8b8f084ae65a3b4e, 65a6407e8b8f084ae65a3b4f, 65a6407e8b8f084ae65a3b50, 65a6407e8b8f084ae65a3b51, 65a6407e8b8f084ae65a3b52, 65a6407e8b8f084ae65a3b53, 65a6407e8b8f084ae65a3b54, 65a6407e8b8f084ae65a3b55, 65a6407e8b8f084ae65a3b56, 65a6407e8b8f084ae65a3b57, 65a6407e8b8f084ae65a3b58, 65a6407e8b8f084ae65a3b59, 65a6407e8b8f084ae65a3b5a, 65a6407e8b8f084ae65a3b5b, 65a6407e8b8f084ae65a3b5c, 65a6407e8b8f084ae65a3b5d, 65a6407e8b8f084ae65a3b5e, 65a6407e8b8f084ae65a3b5f, 65a6407e8b8f084ae65a3b60, 65a6407e8b8f084ae65a3b61, 65a6407e8b8f084ae65a3b62, 65a6407e8b8f084ae65a3b63, 65a6407e8b8f084ae65a3b64, 65a6407e8b8f084ae65a3b65, 65a6407e8b8f084ae65a3b66, 65a6407e8b8f084ae65a3b67, 65a6407e8b8f084ae65a3b68, 65a6407e8b8f084ae65a3b69, 65a6407e8b8f084ae65a3b6a, 65a6407e8b8f084ae65a3b6b, 65a6407e8b8f084ae65a3b6c, 65a6407e8b8f084ae65a3b6d, 65a6407e8b8f084ae65a3b6e, 65a6407e8b8f084ae65a3b6f, 65a6407e8b8f084ae65a3b70, 65a6407e8b8f084ae65a3b71, 65a6407e8b8f084ae65a3b72, 65a6407e8b8f084ae65a3b73, 65a6407e8b8f084ae65a3b74, 65a6407e8b8f084ae65a3b75, 65a6407e8b8f084ae65a3b76, 65a6407e8b8f084ae65a3b77, 65a6407e8b8f084ae65a3b78, 65a6407e8b8f084ae65a3b79, 65a6407e8b8f084ae65a3b7a, 65a6407e8b8f084ae65a3b7b, 65a6407e8b8f084ae65a3b7c, 65a6407e8b8f084ae65a3b7d, 65a6407e8b8f084ae65a3b7e, 65a6407e8b8f084ae65a3b7f, 65a6407e8b8f084ae65a3b80, 65a6407e8b8f084ae65a3b81, 65a6407e8b8f084ae65a3b82, 65a6407e8b8f084ae65a3b83, 65a6407e8b8f084ae65a3b84, 65a6407e8b8f084ae65a3b85, 65a6407e8b8f084ae65a3b86, 65a6407e8b8f084ae65a3b87, 65a6407e8b8f084ae65a3b88, 65a6407e8b8f084ae65a3b89, 65a6407e8b8f084ae65a3b8a, 65a6407e8b8f084ae65a3b8b, 65a6407e8b8f084ae65a3b8c, 65a6407e8b8f084ae65a3b8d, 65a6407e8b8f084ae65a3b8e, 65a6407e8b8f084ae65a3b8f, 65a6407e8b8f084ae65a3b90, 65a6407e8b8f084ae65a3b91, 65a6407e8b8f084ae65a3b92, 65a6407e8b8f084ae65a3b93, 65a6407e8b8f084ae65a3b94, 65a6407e8b8f084ae65a3b95, 65a6407e8b8f084ae65a3b96, 65a6407e8b8f084ae65a3b97, 65a6407e8b8f084ae65a3b98, 65a6407e8b8f084ae65a3b99, 65a6407e8b8f084ae65a3b9a, 65a6407e8b8f084ae65a3b9b, 65a6407e8b8f084ae65a3b9c, 65a6407e8b8f084ae65a3b9d, 65a6407e8b8f084ae65a3b9e, 65a6407e8b8f084ae65a3b9f, 65a6407e8b8f084ae65a3ba0, 65a6407e8b8f084ae65a3ba1, 65a6407e8b8f084ae65a3ba2, 65a6407e8b8f084ae65a3ba3, 65a6407e8b8f084ae65a3ba4, 65a6407e8b8f084ae65a3ba5, 65a6407e8b8f084ae65a3ba6, 65a6407e8b8f084ae65a3ba7, 65a6407e8b8f084ae65a3ba8, 65a6407e8b8f084ae65a3ba9, 65a6407e8b8f084ae65a3baa, 65a6407e8b8f084ae65a3bab, 65a6407e8b8f084ae65a3bac, 65a6407e8b8f084ae65a3bad, 65a6407e8b8f084ae65a3bae, 65a6407e8b8f084ae65a3baf, 65a6407e8b8f084ae65a3bb0, 65a6407e8b8f084ae65a3bb1, 65a6407e8b8f084ae65a3bb2, 65a6407e8b8f084ae65a3bb3, 65a6407e8b8f084ae65a3bb4, 65a6407e8b8f084ae65a3bb5, 65a6407e8b8f084ae65a3bb6, 65a6407e8b8f084ae65a3bb7, 65a6407e8b8f084ae65a3bb8, 65a6407e8b8f084ae65a3bb9, 65a6407e8b8f084ae65a3bba, 65a6407e8b8f084ae65a3bbb, 65a6407e8b8f084ae65a3bbc, 65a6407e8b8f084ae65a3bbd, 65a6407e8b8f084ae65a3bbe, 65a6407e8b8f084ae65a3bbf, 65a6407e8b8f084ae65a3bc0, 65a6407e8b8f084ae65a3bc1, 65a6407e8b8f084ae65a3bc2, 65a6407e8b8f084ae65a3bc3, 65a6407e8b8f084ae65a3bc4, 65a6407e8b8f084ae65a3bc5, 65a6407e8b8f084ae65a3bc6, 65a6407e8b8f084ae65a3bc7, 65a6407e8b8f084ae65a3bc8, 65a6407e8b8f084ae65a3bc9, 65a6407e8b8f084ae65a3bca, 65a6407e8b8f084ae65a3bcb, 65a6407e8b8f084ae65a3bcc, 65a6407e8b8f084ae65a3bcd, 65a6407e8b8f084ae65a3bce, 65a6407e8b8f084ae65a3bcf, 65a6407e8b8f084ae65a3bd0, 65a6407e8b8f084ae65a3bd1, 65a6407e8b8f084ae65a3bd2, 65a6407e8b8f084ae65a3bd3, 65a6407e8b8f084ae65a3bd4, 65a6407e8b8f084ae65a3bd5, 65a6407e8b8f084ae65a3bd6, 65a6407e8b8f084ae65a3bd7, 65a6407e8b8f084ae65a3bd8, 65a6407e8b8f084ae65a3bd9, 65a6407e8b8f084ae65a3bda, 65a6407e8b8f084ae65a3bdb, 65a6407e8b8f084ae65a3bdc, 65a6407e8b8f084ae65a3bdd, 65a6407e8b8f084ae65a3bde, 65a6407e8b8f084ae65a3bdf, 65a6407e8b8f084ae65a3be0, 65a6407e8b8f084ae65a3be1, 65a6407e8b8f084ae65a3be2, 65a6407e8b8f084ae65a3be3, 65a6407e8b8f084ae65a3be4, 65a6407e8b8f084ae65a3be5, 65a6407e8b8f084ae65a3be6, 65a6407e8b8f084ae65a3be7, 65a6407e8b8f084ae65a3be8, 65a6407e8b8f084ae65a3be9, 65a6407e8b8f084ae65a3bea, 65a6407e8b8f084ae65a3beb, 65a6407e8b8f084ae65a3bec, 65a6407e8b8f084ae65a3bed, 65a6407e8b8f084ae65a3bee, 65a6407e8b8f084ae65a3bef, 65a6407e8b8f084ae65a3bf0, 65a6407e8b8f084ae65a3bf1, 65a6407e8b8f084ae65a3bf2, 65a6407e8b8f084ae65a3bf3, 65a6407e8b8f084ae65a3bf4, 65a6407e8b8f084ae65a3bf5, 65a6407e8b8f084ae65a3bf6, 65a6407e8b8f084ae65a3bf7, 65a6407e8b8f084ae65a3bf8, 65a6407e8b8f084ae65a3bf9, 65a6407e8b8f084ae65a3bfa, 65a6407e8b8f084ae65a3bfb, 65a6407e8b8f084ae65a3bfc, 65a6407e8b8f084ae65a3bfd, 65a6407e8b8f084ae65a3bfe, 65a6407e8b8f084ae65a3bff, 65a6407e8b8f084ae65a3c00, 65a6407e8b8f084ae65a3c01, 65a6407e8b8f084ae65a3c02, 65a6407e8b8f084ae65a3c03, 65a6407e8b8f084ae65a3c04, 65a6407e8b8f084ae65a3c05, 65a6407e8b8f084ae65a3c06, 65a6407e8b8f084ae65a3c07, 65a6407e8b8f084ae65a3c08, 65a6407e8b8f084ae65a3c09, 65a6407e8b8f084ae65a3c0a, 65a6407e8b8f084ae65a3c0b, 65a6407e8b8f084ae65a3c0c, 65a6407e8b8f084ae65a3c0d, 65a6407e8b8f084ae65a3c0e, 65a6407e8b8f084ae65a3c0f, 65a6407e8b8f084ae65a3c10, 65a6407e8b8f084ae65a3c11, 65a6407e8b8f084ae65a3c12, 65a6407e8b8f084ae65a3c13, 65a6407e8b8f084ae65a3c14, 65a6407e8b8f084ae65a3c15, 65a6407e8b8f084ae65a3c16, 65a6407e8b8f084ae65a3c17, 65a6407e8b8f084ae65a3c18, 65a6407e8b8f084ae65a3c19, 65a6407e8b8f084ae65a3c1a, 65a6407e8b8f084ae65a3c1b, 65a6407e8b8f084ae65a3c1c, 65a6407e8b8f084ae65a3c1d, 65a6407e8b8f084ae65a3c1e, 65a6407e8b8f084ae65a3c1f, 65a6407e8b8f084ae65a3c20, 65a6407e8b8f084ae65a3c21, 65a6407e8b8f084ae65a3c22, 65a6407e8b8f084ae65a3c23, 65a6407e8b8f084ae65a3c24, 65a6407e8b8f084ae65a3c25, 65a6407e8b8f084ae65a3c26, 65a6407e8b8f084ae65a3c27, 65a6407e8b8f084ae65a3c28, 65a6407e8b8f084ae65a3c29, 65a6407e8b8f084ae65a3c2a, 65a6407e8b8f084ae65a3c2b, 65a6407e8b8f084ae65a3c2c, 65a6407e8b8f084ae65a3c2d, 65a6407e8b8f084ae65a3c2e, 65a6407e8b8f084ae65a3c2f, 65a6407e8b8f084ae65a3c30, 65a6407e8b8f084ae65a3c31, 65a6407e8b8f084ae65a3c32, 65a6407e8b8f084ae65a3c33, 65a6407e8b8f084ae65a3c34, 65a6407e8b8f084ae65a3c35, 65a6407e8b8f084ae65a3c36, 65a6407e8b8f084ae65a3c37, 65a6407e8b8f084ae65a3c38, 65a6407e8b8f084ae65a3c39, 65a6407e8b8f084ae65a3c3a, 65a6407e8b8f084ae65a3c3b, 65a6407e8b8f084ae65a3c3c, 65a6407e8b8f084ae65a3c3d, 65a6407e8b8f084ae65a3c3e, 65a6407e8b8f084ae65a3c3f, 65a6407e8b8f084ae65a3c40, 65a6407e8b8f084ae65a3c41, 65a6407e8b8f084ae65a3c42, 65a6407e8b8f084ae65a3c43, 65a6407e8b8f084ae65a3c44, 65a6407e8b8f084ae65a3c45, 65a6407e8b8f084ae65a3c46, 65a6407e8b8f084ae65a3c47, 65a6407e8b8f084ae65a3c48, 65a6407e8b8f084ae65a3c49, 65a6407e8b8f084ae65a3c4a, 65a6407e8b8f084ae65a3c4b, 65a6407e8b8f084ae65a3c4c, 65a6407e8b8f084ae65a3c4d, 65a6407e8b8f084ae65a3c4e, 65a6407e8b8f084ae65a3c4f, 65a6407e8b8f084ae65a3c50, 65a6407e8b8f084ae65a3c51, 65a6407e8b8f084ae65a3c52, 65a6407e8b8f084ae65a3c53, 65a6407e8b8f084ae65a3c54, 65a6407e8b8f084ae65a3c55, 65a6407e8b8f084ae65a3c56, 65a6407e8b8f084ae65a3c57, 65a6407e8b8f084ae65a3c58, 65a6407e8b8f084ae65a3c59, 65a6407e8b8f084ae65a3c5a, 65a6407e8b8f084ae65a3c5b, 65a6407e8b8f084ae65a3c5c, 65a6407e8b8f084ae65a3c5d, 65a6407e8b8f084ae65a3c5e, 65a6407e8b8f084ae65a3c5f, 65a6407e8b8f084ae65a3c60, 65a6407e8b8f084ae65a3c61, 65a6407e8b8f084ae65a3c62, 65a6407e8b8f084ae65a3c63, 65a6407e8b8f084ae65a3c64, 65a6407e8b8f084ae65a3c65, 65a6407e8b8f084ae65a3c66, 65a6407e8b8f084ae65a3c67, 65a6407e8b8f084ae65a3c68, 65a6407e8b8f084ae65a3c69, 65a6407e8b8f084ae65a3c6a, 65a6407e8b8f084ae65a3c6b, 65a6407e8b8f084ae65a3c6c, 65a6407e8b8f084ae65a3c6d, 65a6407e8b8f084ae65a3c6e, 65a6407e8b8f084ae65a3c6f, 65a6407e8b8f084ae65a3c70, 65a6407e8b8f084ae65a3c71, 65a6407e8b8f084ae65a3c72, 65a6407e8b8f084ae65a3c73, 65a6407e8b8f084ae65a3c74, 65a6407e8b8f084ae65a3c75, 65a6407e8b8f084ae65a3c76, 65a6407e8b8f084ae65a3c77, 65a6407e8b8f084ae65a3c78, 65a6407e8b8f084ae65a3c79, 65a6407e8b8f084ae65a3c7a, 65a6407e8b8f084ae65a3c7b, 65a6407e8b8f084ae65a3c7c, 65a6407e8b8f084ae65a3c7d, 65a6407e8b8f084ae65a3c7e, 65a6407e8b8f084ae65a3c7f, 65a6407e8b8f084ae65a3c80, 65a6407e8b8f084ae65a3c81, 65a6407e8b8f084ae65a3c82, 65a6407e8b8f084ae65a3c83, 65a6407e8b8f084ae65a3c84, 65a6407e8b8f084ae65a3c85, 65a6407e8b8f084ae65a3c86, 65a6407e8b8f084ae65a3c87, 65a6407e8b8f084ae65a3c88, 65a6407e8b8f084ae65a3c89, 65a6407e8b8f084ae65a3c8a, 65a6407e8b8f084ae65a3c8b, 65a6407e8b8f084ae65a3c8c, 65a6407e8b8f084ae65a3c8d, 65a6407e8b8f084ae65a3c8e, 65a6407e8b8f084ae65a3c8f, 65a6407e8b8f084ae65a3c90, 65a6407e8b8f084ae65a3c91, 65a6407e8b8f084ae65a3c92, 65a6407e8b8f084ae65a3c93, 65a6407e8b8f084ae65a3c94, 65a6407e8b8f084ae65a3c95, 65a6407e8b8f084ae65a3c96, 65a6407e8b8f084ae65a3c97, 65a6407e8b8f084ae65a3c98, 65a6407e8b8f084ae65a3c99, 65a6407e8b8f084ae65a3c9a, 65a6407e8b8f084ae65a3c9b, 65a6407e8b8f084ae65a3c9c, 65a6407e8b8f084ae65a3c9d, 65a6407e8b8f084ae65a3c9e, 65a6407e8b8f084ae65a3c9f, 65a6407e8b8f084ae65a3ca0, 65a6407e8b8f084ae65a3ca1, 65a6407e8b8f084ae65a3ca2, 65a6407e8b8f084ae65a3ca3, 65a6407e8b8f084ae65a3ca4, 65a6407e8b8f084ae65a3ca5, 65a6407e8b8f084ae65a3ca6, 65a6407e8b8f084ae65a3ca7, 65a6407e8b8f084ae65a3ca8, 65a6407e8b8f084ae65a3ca9, 65a6407e8b8f084ae65a3caa, 65a6407e8b8f084ae65a3cab, 65a6407e8b8f084ae65a3cac, 65a6407e8b8f084ae65a3cad, 65a6407e8b8f084ae65a3cae, 65a6407e8b8f084ae65a3caf, 65a6407e8b8f084ae65a3cb0, 65a6407e8b8f084ae65a3cb1, 65a6407e8b8f084ae65a3cb2, 65a6407e8b8f084ae65a3cb3, 65a6407e8b8f084ae65a3cb4, 65a6407e8b8f084ae65a3cb5, 65a6407e8b8f084ae65a3cb6, 65a6407e8b8f084ae65a3cb7, 65a6407e8b8f084ae65a3cb8, 65a6407e8b8f084ae65a3cb9, 65a6407e8b8f084ae65a3cba, 65a6407e8b8f084ae65a3cbb]'}\"}, {})\u001b[0m}\n",
       " ] object at 0x7fe0ce3a7970>, active=True, predict_kwargs={'max_chunk_size': 1000}), compatible_listener=None, measure=<VectorIndexMeasureType.cosine: 'cosine'>, metric_values={}))"
      ]
     },
     "execution_count": 4,
     "metadata": {},
     "output_type": "execute_result"
    }
   ],
   "source": [
    "import sentence_transformers\n",
    "from superduperdb import vector, VectorIndex\n",
    "chunk_collection = Collection(\"_outputs.elements.chunk\")\n",
    "\n",
    "model = Model(\n",
    "    identifier=\"embedding\",\n",
    "    object=sentence_transformers.SentenceTransformer(\"BAAI/bge-large-en-v1.5\"),\n",
    "    encoder=vector(shape=(384,)),\n",
    "    predict_method=\"encode\",  # Specify the prediction method\n",
    "    preprocess=lambda x:x['0']['txt'] if isinstance(x, dict) else x,\n",
    "    postprocess=lambda x: x.tolist(),  # Define postprocessing function\n",
    "    batch_predict=True,  # Generate predictions for a set of observations all at once\n",
    ")\n",
    "\n",
    "db.add(\n",
    "    VectorIndex(\n",
    "        # Use a dynamic identifier based on the model's identifier\n",
    "        identifier=\"vector-index\",\n",
    "        # Specify an indexing listener with MongoDB collection and model\n",
    "        indexing_listener=Listener(\n",
    "            select=chunk_collection.find(),\n",
    "            key=\"_outputs.elements.chunk\",  # Key for the documents\n",
    "            model=model,  # Specify the model for processing\n",
    "            predict_kwargs={\"max_chunk_size\": 1000},\n",
    "        ),\n",
    "    )\n",
    ")"
   ]
  },
  {
   "cell_type": "markdown",
   "id": "3ec8fcb0-a7c2-40b6-a1ba-4e2c278b387c",
   "metadata": {},
   "source": [
    "## Search Content from PDF"
   ]
  },
  {
   "cell_type": "code",
   "execution_count": 5,
   "id": "92836c63-e23f-4b1a-8704-bb18fc6aad52",
   "metadata": {},
   "outputs": [
    {
     "name": "stderr",
     "output_type": "stream",
     "text": [
      "Batches: 100%|█████████████████████████████████████████████████████████████████████████████████████████████████████████████████████████████████████████| 1/1 [00:00<00:00, 44.40it/s]\n"
     ]
    },
    {
     "name": "stdout",
     "output_type": "stream",
     "text": [
      "\u001b[32m 2024-Jan-16 08:38:54.06\u001b[0m| \u001b[1mINFO    \u001b[0m | \u001b[36mip-172-31-16-121\u001b[0m| \u001b[36m9eb708c6-a9d9-4c83-ab08-80146246024d\u001b[0m| \u001b[36msuperduperdb.base.datalayer\u001b[0m:\u001b[36m132 \u001b[0m | \u001b[1mloading of vectors of vector-index: 'vector-index'\u001b[0m\n",
      "\u001b[32m 2024-Jan-16 08:38:54.06\u001b[0m| \u001b[1mINFO    \u001b[0m | \u001b[36mip-172-31-16-121\u001b[0m| \u001b[36m9eb708c6-a9d9-4c83-ab08-80146246024d\u001b[0m| \u001b[36msuperduperdb.base.datalayer\u001b[0m:\u001b[36m166 \u001b[0m | \u001b[1m<superduperdb.backends.mongodb.query.MongoCompoundSelect[\n",
      "    \u001b[92m\u001b[1m_outputs.elements.chunk.elements.chunk.find({'_id': \"{'$in': '[65a6407e8b8f084ae65a3a27, 65a6407e8b8f084ae65a3a28, 65a6407e8b8f084ae65a3a29, 65a6407e8b8f084ae65a3a2a, 65a6407e8b8f084ae65a3a2b, 65a6407e8b8f084ae65a3a2c, 65a6407e8b8f084ae65a3a2d, 65a6407e8b8f084ae65a3a2e, 65a6407e8b8f084ae65a3a2f, 65a6407e8b8f084ae65a3a30, 65a6407e8b8f084ae65a3a31, 65a6407e8b8f084ae65a3a32, 65a6407e8b8f084ae65a3a33, 65a6407e8b8f084ae65a3a34, 65a6407e8b8f084ae65a3a35, 65a6407e8b8f084ae65a3a36, 65a6407e8b8f084ae65a3a37, 65a6407e8b8f084ae65a3a38, 65a6407e8b8f084ae65a3a39, 65a6407e8b8f084ae65a3a3a, 65a6407e8b8f084ae65a3a3b, 65a6407e8b8f084ae65a3a3c, 65a6407e8b8f084ae65a3a3d, 65a6407e8b8f084ae65a3a3e, 65a6407e8b8f084ae65a3a3f, 65a6407e8b8f084ae65a3a40, 65a6407e8b8f084ae65a3a41, 65a6407e8b8f084ae65a3a42, 65a6407e8b8f084ae65a3a43, 65a6407e8b8f084ae65a3a44, 65a6407e8b8f084ae65a3a45, 65a6407e8b8f084ae65a3a46, 65a6407e8b8f084ae65a3a47, 65a6407e8b8f084ae65a3a48, 65a6407e8b8f084ae65a3a49, 65a6407e8b8f084ae65a3a4a, 65a6407e8b8f084ae65a3a4b, 65a6407e8b8f084ae65a3a4c, 65a6407e8b8f084ae65a3a4d, 65a6407e8b8f084ae65a3a4e, 65a6407e8b8f084ae65a3a4f, 65a6407e8b8f084ae65a3a50, 65a6407e8b8f084ae65a3a51, 65a6407e8b8f084ae65a3a52, 65a6407e8b8f084ae65a3a53, 65a6407e8b8f084ae65a3a54, 65a6407e8b8f084ae65a3a55, 65a6407e8b8f084ae65a3a56, 65a6407e8b8f084ae65a3a57, 65a6407e8b8f084ae65a3a58, 65a6407e8b8f084ae65a3a59, 65a6407e8b8f084ae65a3a5a, 65a6407e8b8f084ae65a3a5b, 65a6407e8b8f084ae65a3a5c, 65a6407e8b8f084ae65a3a5d, 65a6407e8b8f084ae65a3a5e, 65a6407e8b8f084ae65a3a5f, 65a6407e8b8f084ae65a3a60, 65a6407e8b8f084ae65a3a61, 65a6407e8b8f084ae65a3a62, 65a6407e8b8f084ae65a3a63, 65a6407e8b8f084ae65a3a64, 65a6407e8b8f084ae65a3a65, 65a6407e8b8f084ae65a3a66, 65a6407e8b8f084ae65a3a67, 65a6407e8b8f084ae65a3a68, 65a6407e8b8f084ae65a3a69, 65a6407e8b8f084ae65a3a6a, 65a6407e8b8f084ae65a3a6b, 65a6407e8b8f084ae65a3a6c, 65a6407e8b8f084ae65a3a6d, 65a6407e8b8f084ae65a3a6e, 65a6407e8b8f084ae65a3a6f, 65a6407e8b8f084ae65a3a70, 65a6407e8b8f084ae65a3a71, 65a6407e8b8f084ae65a3a72, 65a6407e8b8f084ae65a3a73, 65a6407e8b8f084ae65a3a74, 65a6407e8b8f084ae65a3a75, 65a6407e8b8f084ae65a3a76, 65a6407e8b8f084ae65a3a77, 65a6407e8b8f084ae65a3a78, 65a6407e8b8f084ae65a3a79, 65a6407e8b8f084ae65a3a7a, 65a6407e8b8f084ae65a3a7b, 65a6407e8b8f084ae65a3a7c, 65a6407e8b8f084ae65a3a7d, 65a6407e8b8f084ae65a3a7e, 65a6407e8b8f084ae65a3a7f, 65a6407e8b8f084ae65a3a80, 65a6407e8b8f084ae65a3a81, 65a6407e8b8f084ae65a3a82, 65a6407e8b8f084ae65a3a83, 65a6407e8b8f084ae65a3a84, 65a6407e8b8f084ae65a3a85, 65a6407e8b8f084ae65a3a86, 65a6407e8b8f084ae65a3a87, 65a6407e8b8f084ae65a3a88, 65a6407e8b8f084ae65a3a89, 65a6407e8b8f084ae65a3a8a, 65a6407e8b8f084ae65a3a8b, 65a6407e8b8f084ae65a3a8c, 65a6407e8b8f084ae65a3a8d, 65a6407e8b8f084ae65a3a8e, 65a6407e8b8f084ae65a3a8f, 65a6407e8b8f084ae65a3a90, 65a6407e8b8f084ae65a3a91, 65a6407e8b8f084ae65a3a92, 65a6407e8b8f084ae65a3a93, 65a6407e8b8f084ae65a3a94, 65a6407e8b8f084ae65a3a95, 65a6407e8b8f084ae65a3a96, 65a6407e8b8f084ae65a3a97, 65a6407e8b8f084ae65a3a98, 65a6407e8b8f084ae65a3a99, 65a6407e8b8f084ae65a3a9a, 65a6407e8b8f084ae65a3a9b, 65a6407e8b8f084ae65a3a9c, 65a6407e8b8f084ae65a3a9d, 65a6407e8b8f084ae65a3a9e, 65a6407e8b8f084ae65a3a9f, 65a6407e8b8f084ae65a3aa0, 65a6407e8b8f084ae65a3aa1, 65a6407e8b8f084ae65a3aa2, 65a6407e8b8f084ae65a3aa3, 65a6407e8b8f084ae65a3aa4, 65a6407e8b8f084ae65a3aa5, 65a6407e8b8f084ae65a3aa6, 65a6407e8b8f084ae65a3aa7, 65a6407e8b8f084ae65a3aa8, 65a6407e8b8f084ae65a3aa9, 65a6407e8b8f084ae65a3aaa, 65a6407e8b8f084ae65a3aab, 65a6407e8b8f084ae65a3aac, 65a6407e8b8f084ae65a3aad, 65a6407e8b8f084ae65a3aae, 65a6407e8b8f084ae65a3aaf, 65a6407e8b8f084ae65a3ab0, 65a6407e8b8f084ae65a3ab1, 65a6407e8b8f084ae65a3ab2, 65a6407e8b8f084ae65a3ab3, 65a6407e8b8f084ae65a3ab4, 65a6407e8b8f084ae65a3ab5, 65a6407e8b8f084ae65a3ab6, 65a6407e8b8f084ae65a3ab7, 65a6407e8b8f084ae65a3ab8, 65a6407e8b8f084ae65a3ab9, 65a6407e8b8f084ae65a3aba, 65a6407e8b8f084ae65a3abb, 65a6407e8b8f084ae65a3abc, 65a6407e8b8f084ae65a3abd, 65a6407e8b8f084ae65a3abe, 65a6407e8b8f084ae65a3abf, 65a6407e8b8f084ae65a3ac0, 65a6407e8b8f084ae65a3ac1, 65a6407e8b8f084ae65a3ac2, 65a6407e8b8f084ae65a3ac3, 65a6407e8b8f084ae65a3ac4, 65a6407e8b8f084ae65a3ac5, 65a6407e8b8f084ae65a3ac6, 65a6407e8b8f084ae65a3ac7, 65a6407e8b8f084ae65a3ac8, 65a6407e8b8f084ae65a3ac9, 65a6407e8b8f084ae65a3aca, 65a6407e8b8f084ae65a3acb, 65a6407e8b8f084ae65a3acc, 65a6407e8b8f084ae65a3acd, 65a6407e8b8f084ae65a3ace, 65a6407e8b8f084ae65a3acf, 65a6407e8b8f084ae65a3ad0, 65a6407e8b8f084ae65a3ad1, 65a6407e8b8f084ae65a3ad2, 65a6407e8b8f084ae65a3ad3, 65a6407e8b8f084ae65a3ad4, 65a6407e8b8f084ae65a3ad5, 65a6407e8b8f084ae65a3ad6, 65a6407e8b8f084ae65a3ad7, 65a6407e8b8f084ae65a3ad8, 65a6407e8b8f084ae65a3ad9, 65a6407e8b8f084ae65a3ada, 65a6407e8b8f084ae65a3adb, 65a6407e8b8f084ae65a3adc, 65a6407e8b8f084ae65a3add, 65a6407e8b8f084ae65a3ade, 65a6407e8b8f084ae65a3adf, 65a6407e8b8f084ae65a3ae0, 65a6407e8b8f084ae65a3ae1, 65a6407e8b8f084ae65a3ae2, 65a6407e8b8f084ae65a3ae3, 65a6407e8b8f084ae65a3ae4, 65a6407e8b8f084ae65a3ae5, 65a6407e8b8f084ae65a3ae6, 65a6407e8b8f084ae65a3ae7, 65a6407e8b8f084ae65a3ae8, 65a6407e8b8f084ae65a3ae9, 65a6407e8b8f084ae65a3aea, 65a6407e8b8f084ae65a3aeb, 65a6407e8b8f084ae65a3aec, 65a6407e8b8f084ae65a3aed, 65a6407e8b8f084ae65a3aee, 65a6407e8b8f084ae65a3aef, 65a6407e8b8f084ae65a3af0, 65a6407e8b8f084ae65a3af1, 65a6407e8b8f084ae65a3af2, 65a6407e8b8f084ae65a3af3, 65a6407e8b8f084ae65a3af4, 65a6407e8b8f084ae65a3af5, 65a6407e8b8f084ae65a3af6, 65a6407e8b8f084ae65a3af7, 65a6407e8b8f084ae65a3af8, 65a6407e8b8f084ae65a3af9, 65a6407e8b8f084ae65a3afa, 65a6407e8b8f084ae65a3afb, 65a6407e8b8f084ae65a3afc, 65a6407e8b8f084ae65a3afd, 65a6407e8b8f084ae65a3afe, 65a6407e8b8f084ae65a3aff, 65a6407e8b8f084ae65a3b00, 65a6407e8b8f084ae65a3b01, 65a6407e8b8f084ae65a3b02, 65a6407e8b8f084ae65a3b03, 65a6407e8b8f084ae65a3b04, 65a6407e8b8f084ae65a3b05, 65a6407e8b8f084ae65a3b06, 65a6407e8b8f084ae65a3b07, 65a6407e8b8f084ae65a3b08, 65a6407e8b8f084ae65a3b09, 65a6407e8b8f084ae65a3b0a, 65a6407e8b8f084ae65a3b0b, 65a6407e8b8f084ae65a3b0c, 65a6407e8b8f084ae65a3b0d, 65a6407e8b8f084ae65a3b0e, 65a6407e8b8f084ae65a3b0f, 65a6407e8b8f084ae65a3b10, 65a6407e8b8f084ae65a3b11, 65a6407e8b8f084ae65a3b12, 65a6407e8b8f084ae65a3b13, 65a6407e8b8f084ae65a3b14, 65a6407e8b8f084ae65a3b15, 65a6407e8b8f084ae65a3b16, 65a6407e8b8f084ae65a3b17, 65a6407e8b8f084ae65a3b18, 65a6407e8b8f084ae65a3b19, 65a6407e8b8f084ae65a3b1a, 65a6407e8b8f084ae65a3b1b, 65a6407e8b8f084ae65a3b1c, 65a6407e8b8f084ae65a3b1d, 65a6407e8b8f084ae65a3b1e, 65a6407e8b8f084ae65a3b1f, 65a6407e8b8f084ae65a3b20, 65a6407e8b8f084ae65a3b21, 65a6407e8b8f084ae65a3b22, 65a6407e8b8f084ae65a3b23, 65a6407e8b8f084ae65a3b24, 65a6407e8b8f084ae65a3b25, 65a6407e8b8f084ae65a3b26, 65a6407e8b8f084ae65a3b27, 65a6407e8b8f084ae65a3b28, 65a6407e8b8f084ae65a3b29, 65a6407e8b8f084ae65a3b2a, 65a6407e8b8f084ae65a3b2b, 65a6407e8b8f084ae65a3b2c, 65a6407e8b8f084ae65a3b2d, 65a6407e8b8f084ae65a3b2e, 65a6407e8b8f084ae65a3b2f, 65a6407e8b8f084ae65a3b30, 65a6407e8b8f084ae65a3b31, 65a6407e8b8f084ae65a3b32, 65a6407e8b8f084ae65a3b33, 65a6407e8b8f084ae65a3b34, 65a6407e8b8f084ae65a3b35, 65a6407e8b8f084ae65a3b36, 65a6407e8b8f084ae65a3b37, 65a6407e8b8f084ae65a3b38, 65a6407e8b8f084ae65a3b39, 65a6407e8b8f084ae65a3b3a, 65a6407e8b8f084ae65a3b3b, 65a6407e8b8f084ae65a3b3c, 65a6407e8b8f084ae65a3b3d, 65a6407e8b8f084ae65a3b3e, 65a6407e8b8f084ae65a3b3f, 65a6407e8b8f084ae65a3b40, 65a6407e8b8f084ae65a3b41, 65a6407e8b8f084ae65a3b42, 65a6407e8b8f084ae65a3b43, 65a6407e8b8f084ae65a3b44, 65a6407e8b8f084ae65a3b45, 65a6407e8b8f084ae65a3b46, 65a6407e8b8f084ae65a3b47, 65a6407e8b8f084ae65a3b48, 65a6407e8b8f084ae65a3b49, 65a6407e8b8f084ae65a3b4a, 65a6407e8b8f084ae65a3b4b, 65a6407e8b8f084ae65a3b4c, 65a6407e8b8f084ae65a3b4d, 65a6407e8b8f084ae65a3b4e, 65a6407e8b8f084ae65a3b4f, 65a6407e8b8f084ae65a3b50, 65a6407e8b8f084ae65a3b51, 65a6407e8b8f084ae65a3b52, 65a6407e8b8f084ae65a3b53, 65a6407e8b8f084ae65a3b54, 65a6407e8b8f084ae65a3b55, 65a6407e8b8f084ae65a3b56, 65a6407e8b8f084ae65a3b57, 65a6407e8b8f084ae65a3b58, 65a6407e8b8f084ae65a3b59, 65a6407e8b8f084ae65a3b5a, 65a6407e8b8f084ae65a3b5b, 65a6407e8b8f084ae65a3b5c, 65a6407e8b8f084ae65a3b5d, 65a6407e8b8f084ae65a3b5e, 65a6407e8b8f084ae65a3b5f, 65a6407e8b8f084ae65a3b60, 65a6407e8b8f084ae65a3b61, 65a6407e8b8f084ae65a3b62, 65a6407e8b8f084ae65a3b63, 65a6407e8b8f084ae65a3b64, 65a6407e8b8f084ae65a3b65, 65a6407e8b8f084ae65a3b66, 65a6407e8b8f084ae65a3b67, 65a6407e8b8f084ae65a3b68, 65a6407e8b8f084ae65a3b69, 65a6407e8b8f084ae65a3b6a, 65a6407e8b8f084ae65a3b6b, 65a6407e8b8f084ae65a3b6c, 65a6407e8b8f084ae65a3b6d, 65a6407e8b8f084ae65a3b6e, 65a6407e8b8f084ae65a3b6f, 65a6407e8b8f084ae65a3b70, 65a6407e8b8f084ae65a3b71, 65a6407e8b8f084ae65a3b72, 65a6407e8b8f084ae65a3b73, 65a6407e8b8f084ae65a3b74, 65a6407e8b8f084ae65a3b75, 65a6407e8b8f084ae65a3b76, 65a6407e8b8f084ae65a3b77, 65a6407e8b8f084ae65a3b78, 65a6407e8b8f084ae65a3b79, 65a6407e8b8f084ae65a3b7a, 65a6407e8b8f084ae65a3b7b, 65a6407e8b8f084ae65a3b7c, 65a6407e8b8f084ae65a3b7d, 65a6407e8b8f084ae65a3b7e, 65a6407e8b8f084ae65a3b7f, 65a6407e8b8f084ae65a3b80, 65a6407e8b8f084ae65a3b81, 65a6407e8b8f084ae65a3b82, 65a6407e8b8f084ae65a3b83, 65a6407e8b8f084ae65a3b84, 65a6407e8b8f084ae65a3b85, 65a6407e8b8f084ae65a3b86, 65a6407e8b8f084ae65a3b87, 65a6407e8b8f084ae65a3b88, 65a6407e8b8f084ae65a3b89, 65a6407e8b8f084ae65a3b8a, 65a6407e8b8f084ae65a3b8b, 65a6407e8b8f084ae65a3b8c, 65a6407e8b8f084ae65a3b8d, 65a6407e8b8f084ae65a3b8e, 65a6407e8b8f084ae65a3b8f, 65a6407e8b8f084ae65a3b90, 65a6407e8b8f084ae65a3b91, 65a6407e8b8f084ae65a3b92, 65a6407e8b8f084ae65a3b93, 65a6407e8b8f084ae65a3b94, 65a6407e8b8f084ae65a3b95, 65a6407e8b8f084ae65a3b96, 65a6407e8b8f084ae65a3b97, 65a6407e8b8f084ae65a3b98, 65a6407e8b8f084ae65a3b99, 65a6407e8b8f084ae65a3b9a, 65a6407e8b8f084ae65a3b9b, 65a6407e8b8f084ae65a3b9c, 65a6407e8b8f084ae65a3b9d, 65a6407e8b8f084ae65a3b9e, 65a6407e8b8f084ae65a3b9f, 65a6407e8b8f084ae65a3ba0, 65a6407e8b8f084ae65a3ba1, 65a6407e8b8f084ae65a3ba2, 65a6407e8b8f084ae65a3ba3, 65a6407e8b8f084ae65a3ba4, 65a6407e8b8f084ae65a3ba5, 65a6407e8b8f084ae65a3ba6, 65a6407e8b8f084ae65a3ba7, 65a6407e8b8f084ae65a3ba8, 65a6407e8b8f084ae65a3ba9, 65a6407e8b8f084ae65a3baa, 65a6407e8b8f084ae65a3bab, 65a6407e8b8f084ae65a3bac, 65a6407e8b8f084ae65a3bad, 65a6407e8b8f084ae65a3bae, 65a6407e8b8f084ae65a3baf, 65a6407e8b8f084ae65a3bb0, 65a6407e8b8f084ae65a3bb1, 65a6407e8b8f084ae65a3bb2, 65a6407e8b8f084ae65a3bb3, 65a6407e8b8f084ae65a3bb4, 65a6407e8b8f084ae65a3bb5, 65a6407e8b8f084ae65a3bb6, 65a6407e8b8f084ae65a3bb7, 65a6407e8b8f084ae65a3bb8, 65a6407e8b8f084ae65a3bb9, 65a6407e8b8f084ae65a3bba, 65a6407e8b8f084ae65a3bbb, 65a6407e8b8f084ae65a3bbc, 65a6407e8b8f084ae65a3bbd, 65a6407e8b8f084ae65a3bbe, 65a6407e8b8f084ae65a3bbf, 65a6407e8b8f084ae65a3bc0, 65a6407e8b8f084ae65a3bc1, 65a6407e8b8f084ae65a3bc2, 65a6407e8b8f084ae65a3bc3, 65a6407e8b8f084ae65a3bc4, 65a6407e8b8f084ae65a3bc5, 65a6407e8b8f084ae65a3bc6, 65a6407e8b8f084ae65a3bc7, 65a6407e8b8f084ae65a3bc8, 65a6407e8b8f084ae65a3bc9, 65a6407e8b8f084ae65a3bca, 65a6407e8b8f084ae65a3bcb, 65a6407e8b8f084ae65a3bcc, 65a6407e8b8f084ae65a3bcd, 65a6407e8b8f084ae65a3bce, 65a6407e8b8f084ae65a3bcf, 65a6407e8b8f084ae65a3bd0, 65a6407e8b8f084ae65a3bd1, 65a6407e8b8f084ae65a3bd2, 65a6407e8b8f084ae65a3bd3, 65a6407e8b8f084ae65a3bd4, 65a6407e8b8f084ae65a3bd5, 65a6407e8b8f084ae65a3bd6, 65a6407e8b8f084ae65a3bd7, 65a6407e8b8f084ae65a3bd8, 65a6407e8b8f084ae65a3bd9, 65a6407e8b8f084ae65a3bda, 65a6407e8b8f084ae65a3bdb, 65a6407e8b8f084ae65a3bdc, 65a6407e8b8f084ae65a3bdd, 65a6407e8b8f084ae65a3bde, 65a6407e8b8f084ae65a3bdf, 65a6407e8b8f084ae65a3be0, 65a6407e8b8f084ae65a3be1, 65a6407e8b8f084ae65a3be2, 65a6407e8b8f084ae65a3be3, 65a6407e8b8f084ae65a3be4, 65a6407e8b8f084ae65a3be5, 65a6407e8b8f084ae65a3be6, 65a6407e8b8f084ae65a3be7, 65a6407e8b8f084ae65a3be8, 65a6407e8b8f084ae65a3be9, 65a6407e8b8f084ae65a3bea, 65a6407e8b8f084ae65a3beb, 65a6407e8b8f084ae65a3bec, 65a6407e8b8f084ae65a3bed, 65a6407e8b8f084ae65a3bee, 65a6407e8b8f084ae65a3bef, 65a6407e8b8f084ae65a3bf0, 65a6407e8b8f084ae65a3bf1, 65a6407e8b8f084ae65a3bf2, 65a6407e8b8f084ae65a3bf3, 65a6407e8b8f084ae65a3bf4, 65a6407e8b8f084ae65a3bf5, 65a6407e8b8f084ae65a3bf6, 65a6407e8b8f084ae65a3bf7, 65a6407e8b8f084ae65a3bf8, 65a6407e8b8f084ae65a3bf9, 65a6407e8b8f084ae65a3bfa, 65a6407e8b8f084ae65a3bfb, 65a6407e8b8f084ae65a3bfc, 65a6407e8b8f084ae65a3bfd, 65a6407e8b8f084ae65a3bfe, 65a6407e8b8f084ae65a3bff, 65a6407e8b8f084ae65a3c00, 65a6407e8b8f084ae65a3c01, 65a6407e8b8f084ae65a3c02, 65a6407e8b8f084ae65a3c03, 65a6407e8b8f084ae65a3c04, 65a6407e8b8f084ae65a3c05, 65a6407e8b8f084ae65a3c06, 65a6407e8b8f084ae65a3c07, 65a6407e8b8f084ae65a3c08, 65a6407e8b8f084ae65a3c09, 65a6407e8b8f084ae65a3c0a, 65a6407e8b8f084ae65a3c0b, 65a6407e8b8f084ae65a3c0c, 65a6407e8b8f084ae65a3c0d, 65a6407e8b8f084ae65a3c0e, 65a6407e8b8f084ae65a3c0f, 65a6407e8b8f084ae65a3c10, 65a6407e8b8f084ae65a3c11, 65a6407e8b8f084ae65a3c12, 65a6407e8b8f084ae65a3c13, 65a6407e8b8f084ae65a3c14, 65a6407e8b8f084ae65a3c15, 65a6407e8b8f084ae65a3c16, 65a6407e8b8f084ae65a3c17, 65a6407e8b8f084ae65a3c18, 65a6407e8b8f084ae65a3c19, 65a6407e8b8f084ae65a3c1a, 65a6407e8b8f084ae65a3c1b, 65a6407e8b8f084ae65a3c1c, 65a6407e8b8f084ae65a3c1d, 65a6407e8b8f084ae65a3c1e, 65a6407e8b8f084ae65a3c1f, 65a6407e8b8f084ae65a3c20, 65a6407e8b8f084ae65a3c21, 65a6407e8b8f084ae65a3c22, 65a6407e8b8f084ae65a3c23, 65a6407e8b8f084ae65a3c24, 65a6407e8b8f084ae65a3c25, 65a6407e8b8f084ae65a3c26, 65a6407e8b8f084ae65a3c27, 65a6407e8b8f084ae65a3c28, 65a6407e8b8f084ae65a3c29, 65a6407e8b8f084ae65a3c2a, 65a6407e8b8f084ae65a3c2b, 65a6407e8b8f084ae65a3c2c, 65a6407e8b8f084ae65a3c2d, 65a6407e8b8f084ae65a3c2e, 65a6407e8b8f084ae65a3c2f, 65a6407e8b8f084ae65a3c30, 65a6407e8b8f084ae65a3c31, 65a6407e8b8f084ae65a3c32, 65a6407e8b8f084ae65a3c33, 65a6407e8b8f084ae65a3c34, 65a6407e8b8f084ae65a3c35, 65a6407e8b8f084ae65a3c36, 65a6407e8b8f084ae65a3c37, 65a6407e8b8f084ae65a3c38, 65a6407e8b8f084ae65a3c39, 65a6407e8b8f084ae65a3c3a, 65a6407e8b8f084ae65a3c3b, 65a6407e8b8f084ae65a3c3c, 65a6407e8b8f084ae65a3c3d, 65a6407e8b8f084ae65a3c3e, 65a6407e8b8f084ae65a3c3f, 65a6407e8b8f084ae65a3c40, 65a6407e8b8f084ae65a3c41, 65a6407e8b8f084ae65a3c42, 65a6407e8b8f084ae65a3c43, 65a6407e8b8f084ae65a3c44, 65a6407e8b8f084ae65a3c45, 65a6407e8b8f084ae65a3c46, 65a6407e8b8f084ae65a3c47, 65a6407e8b8f084ae65a3c48, 65a6407e8b8f084ae65a3c49, 65a6407e8b8f084ae65a3c4a, 65a6407e8b8f084ae65a3c4b, 65a6407e8b8f084ae65a3c4c, 65a6407e8b8f084ae65a3c4d, 65a6407e8b8f084ae65a3c4e, 65a6407e8b8f084ae65a3c4f, 65a6407e8b8f084ae65a3c50, 65a6407e8b8f084ae65a3c51, 65a6407e8b8f084ae65a3c52, 65a6407e8b8f084ae65a3c53, 65a6407e8b8f084ae65a3c54, 65a6407e8b8f084ae65a3c55, 65a6407e8b8f084ae65a3c56, 65a6407e8b8f084ae65a3c57, 65a6407e8b8f084ae65a3c58, 65a6407e8b8f084ae65a3c59, 65a6407e8b8f084ae65a3c5a, 65a6407e8b8f084ae65a3c5b, 65a6407e8b8f084ae65a3c5c, 65a6407e8b8f084ae65a3c5d, 65a6407e8b8f084ae65a3c5e, 65a6407e8b8f084ae65a3c5f, 65a6407e8b8f084ae65a3c60, 65a6407e8b8f084ae65a3c61, 65a6407e8b8f084ae65a3c62, 65a6407e8b8f084ae65a3c63, 65a6407e8b8f084ae65a3c64, 65a6407e8b8f084ae65a3c65, 65a6407e8b8f084ae65a3c66, 65a6407e8b8f084ae65a3c67, 65a6407e8b8f084ae65a3c68, 65a6407e8b8f084ae65a3c69, 65a6407e8b8f084ae65a3c6a, 65a6407e8b8f084ae65a3c6b, 65a6407e8b8f084ae65a3c6c, 65a6407e8b8f084ae65a3c6d, 65a6407e8b8f084ae65a3c6e, 65a6407e8b8f084ae65a3c6f, 65a6407e8b8f084ae65a3c70, 65a6407e8b8f084ae65a3c71, 65a6407e8b8f084ae65a3c72, 65a6407e8b8f084ae65a3c73, 65a6407e8b8f084ae65a3c74, 65a6407e8b8f084ae65a3c75, 65a6407e8b8f084ae65a3c76, 65a6407e8b8f084ae65a3c77, 65a6407e8b8f084ae65a3c78, 65a6407e8b8f084ae65a3c79, 65a6407e8b8f084ae65a3c7a, 65a6407e8b8f084ae65a3c7b, 65a6407e8b8f084ae65a3c7c, 65a6407e8b8f084ae65a3c7d, 65a6407e8b8f084ae65a3c7e, 65a6407e8b8f084ae65a3c7f, 65a6407e8b8f084ae65a3c80, 65a6407e8b8f084ae65a3c81, 65a6407e8b8f084ae65a3c82, 65a6407e8b8f084ae65a3c83, 65a6407e8b8f084ae65a3c84, 65a6407e8b8f084ae65a3c85, 65a6407e8b8f084ae65a3c86, 65a6407e8b8f084ae65a3c87, 65a6407e8b8f084ae65a3c88, 65a6407e8b8f084ae65a3c89, 65a6407e8b8f084ae65a3c8a, 65a6407e8b8f084ae65a3c8b, 65a6407e8b8f084ae65a3c8c, 65a6407e8b8f084ae65a3c8d, 65a6407e8b8f084ae65a3c8e, 65a6407e8b8f084ae65a3c8f, 65a6407e8b8f084ae65a3c90, 65a6407e8b8f084ae65a3c91, 65a6407e8b8f084ae65a3c92, 65a6407e8b8f084ae65a3c93, 65a6407e8b8f084ae65a3c94, 65a6407e8b8f084ae65a3c95, 65a6407e8b8f084ae65a3c96, 65a6407e8b8f084ae65a3c97, 65a6407e8b8f084ae65a3c98, 65a6407e8b8f084ae65a3c99, 65a6407e8b8f084ae65a3c9a, 65a6407e8b8f084ae65a3c9b, 65a6407e8b8f084ae65a3c9c, 65a6407e8b8f084ae65a3c9d, 65a6407e8b8f084ae65a3c9e, 65a6407e8b8f084ae65a3c9f, 65a6407e8b8f084ae65a3ca0, 65a6407e8b8f084ae65a3ca1, 65a6407e8b8f084ae65a3ca2, 65a6407e8b8f084ae65a3ca3, 65a6407e8b8f084ae65a3ca4, 65a6407e8b8f084ae65a3ca5, 65a6407e8b8f084ae65a3ca6, 65a6407e8b8f084ae65a3ca7, 65a6407e8b8f084ae65a3ca8, 65a6407e8b8f084ae65a3ca9, 65a6407e8b8f084ae65a3caa, 65a6407e8b8f084ae65a3cab, 65a6407e8b8f084ae65a3cac, 65a6407e8b8f084ae65a3cad, 65a6407e8b8f084ae65a3cae, 65a6407e8b8f084ae65a3caf, 65a6407e8b8f084ae65a3cb0, 65a6407e8b8f084ae65a3cb1, 65a6407e8b8f084ae65a3cb2, 65a6407e8b8f084ae65a3cb3, 65a6407e8b8f084ae65a3cb4, 65a6407e8b8f084ae65a3cb5, 65a6407e8b8f084ae65a3cb6, 65a6407e8b8f084ae65a3cb7, 65a6407e8b8f084ae65a3cb8, 65a6407e8b8f084ae65a3cb9, 65a6407e8b8f084ae65a3cba, 65a6407e8b8f084ae65a3cbb]'}\"}, {'_outputs.elements.embedding.0': '1', '_outputs.elements.embedding/0': '1', '_id': '1'})\u001b[0m}\n",
      "] object at 0x7fe0ccbdbee0>\u001b[0m\n"
     ]
    },
    {
     "name": "stderr",
     "output_type": "stream",
     "text": [
      "Loading vectors into vector-table...: 661it [00:00, 897.34it/s]"
     ]
    },
    {
     "name": "stdout",
     "output_type": "stream",
     "text": [
      "0.6128491271978982\n",
      "Warranty\n",
      "6 1\n",
      "y t n a r r a W\n",
      "389\n",
      "0.595966817797636\n",
      "Contact Volvo Action Service, they have the equipment and knowledge to help you.\n",
      "AA 338361\n",
      "0.5908166713587972\n",
      "1 Remove the negative cable.\n",
      "2 Remove the positive cable.\n",
      "Emergency starting\n",
      "4 1\n",
      "N O\n",
      "I T C A\n",
      "Y C N E G R E M E\n",
      "363\n",
      "0.5877470887268926\n",
      "NOTE\n",
      "Make sure the earth connection is clean and free from paint.\n",
      "Remove charge cables\n",
      "1 Remove the negative cable.\n",
      "2 Remove the positive cable.\n",
      "Emergency starting\n",
      "4 1\n",
      "N O\n",
      "I T C A\n",
      "Y C N E G R E M E\n",
      "0.5782561791891998\n",
      "EMERGENCY ACTION\n",
      "14\n"
     ]
    },
    {
     "name": "stderr",
     "output_type": "stream",
     "text": [
      "\n"
     ]
    }
   ],
   "source": [
    "query = \"How to call support\"\n",
    "out = db.execute(\n",
    "    chunk_collection.like(\n",
    "        Document({\"_outputs.elements.chunk\": query}),\n",
    "        vector_index=\"vector-index\",\n",
    "        n=5,\n",
    "    ).find({})\n",
    ")\n",
    "\n",
    "for r in sorted(out, key=lambda x:x.content['score'], reverse=True):\n",
    "    print(r.content['score'])\n",
    "    x = r.outputs('elements', 'chunk')['txt']\n",
    "    print(x)"
   ]
  },
  {
   "cell_type": "markdown",
   "id": "8848fe4e-50d0-445c-b7b7-365a3913f153",
   "metadata": {},
   "source": [
    "## QA System For PDF"
   ]
  },
  {
   "cell_type": "code",
   "execution_count": 6,
   "id": "1014c5d5-ceed-4422-886e-40741191c778",
   "metadata": {},
   "outputs": [
    {
     "name": "stdout",
     "output_type": "stream",
     "text": [
      "['chunk', 'embedding', 'llm']\n"
     ]
    }
   ],
   "source": [
    "from superduperdb.ext.llm.vllm import VllmModel\n",
    "\n",
    "# Define the prompt for the llm model\n",
    "prompt_template = (\n",
    "    'The following is a document and question about the volvo user manual\\n'\n",
    "    'Only provide a very concise answer\\n'\n",
    "    '{context}\\n\\n'\n",
    "    'Here\\'s the question:{input}\\n'\n",
    "    'answer:'\n",
    ")\n",
    "\n",
    "# Create an instance of llm with the specified model and prompt\n",
    "llm = VllmModel(identifier='llm',\n",
    "                 model_name='TheBloke/Mistral-7B-Instruct-v0.2-AWQ', \n",
    "                 prompt_template=prompt_template,\n",
    "                 vllm_kwargs={\"max_model_len\": 2048, \"quantization\": \"awq\"}, \n",
    "                 inference_kwargs={\"max_tokens\":2048},\n",
    "               )\n",
    "\n",
    "# Add the llm instance\n",
    "db.add(llm)\n",
    "\n",
    "# Print information about the models in the SuperDuperDB database\n",
    "print(db.show('model'))"
   ]
  },
  {
   "cell_type": "code",
   "execution_count": 7,
   "id": "7e1edef5-4942-4761-94ac-f55064e335de",
   "metadata": {},
   "outputs": [
    {
     "name": "stderr",
     "output_type": "stream",
     "text": [
      "Batches: 100%|█████████████████████████████████████████████████████████████████████████████████████████████████████████████████████████████████████████| 1/1 [00:00<00:00, 54.33it/s]"
     ]
    },
    {
     "name": "stdout",
     "output_type": "stream",
     "text": [
      "\u001b[32m 2024-Jan-16 08:38:55.03\u001b[0m| \u001b[1mINFO    \u001b[0m | \u001b[36mip-172-31-16-121\u001b[0m| \u001b[36m9eb708c6-a9d9-4c83-ab08-80146246024d\u001b[0m| \u001b[36msuperduperdb.ext.llm.base\u001b[0m:\u001b[36m29  \u001b[0m | \u001b[1mInitializing VllmModel : llm\u001b[0m\n",
      "WARNING 01-16 08:38:55 config.py:175] awq quantization is not fully optimized yet. The speed can be slower than non-quantized models.\n",
      "INFO 01-16 08:38:55 llm_engine.py:70] Initializing an LLM engine with config: model='TheBloke/Mistral-7B-Instruct-v0.2-AWQ', tokenizer='TheBloke/Mistral-7B-Instruct-v0.2-AWQ', tokenizer_mode=auto, revision=None, tokenizer_revision=None, trust_remote_code=True, dtype=torch.float16, max_seq_len=2048, download_dir=None, load_format=auto, tensor_parallel_size=1, quantization=awq, enforce_eager=False, seed=0)\n"
     ]
    },
    {
     "name": "stderr",
     "output_type": "stream",
     "text": [
      "\n"
     ]
    },
    {
     "name": "stdout",
     "output_type": "stream",
     "text": [
      "INFO 01-16 08:38:58 llm_engine.py:275] # GPU blocks: 6692, # CPU blocks: 2048\n",
      "INFO 01-16 08:39:00 model_runner.py:501] Capturing the model for CUDA graphs. This may lead to unexpected consequences if the model is not static. To run the model in eager mode, set 'enforce_eager=True' or use '--enforce-eager' in the CLI.\n",
      "INFO 01-16 08:39:00 model_runner.py:505] CUDA graphs can take additional 1~3 GiB memory per GPU. If you are running out of memory, consider decreasing `gpu_memory_utilization` or enforcing eager mode.\n",
      "INFO 01-16 08:39:11 model_runner.py:547] Graph capturing finished in 11 secs.\n",
      "\u001b[32m 2024-Jan-16 08:39:11.12\u001b[0m| \u001b[1mINFO    \u001b[0m | \u001b[36mip-172-31-16-121\u001b[0m| \u001b[36m9eb708c6-a9d9-4c83-ab08-80146246024d\u001b[0m| \u001b[36msuperduperdb.ext.llm.base\u001b[0m:\u001b[36m32  \u001b[0m | \u001b[1mInitialized  VllmModel : llm successfully\u001b[0m\n",
      " Contact Volvo Action Service. The number is AA 338361.\n",
      "page_number: 399, score: 0.612849, coordinates: [[483.11682, 16.42147], [483.11682, 397.54553999999996], [579.45278, 397.54553999999996], [579.45278, 16.42147]]\n",
      "page_number: 374, score: 0.595967, coordinates: [[218.26458, 75.55993000000001], [218.26458, 401.42537], [549.33149, 401.42537], [549.33149, 75.55993000000001]]\n",
      "page_number: 373, score: 0.590817, coordinates: [[218.27141, 16.42147], [218.27141, 397.54553999999996], [579.4527899999999, 397.54553999999996], [579.4527899999999, 16.42147]]\n",
      "page_number: 373, score: 0.587747, coordinates: [[218.26771, 16.42147], [218.26771, 283.31674], [579.4527899999999, 283.31674], [579.4527899999999, 16.42147]]\n",
      "page_number: 365, score: 0.578256, coordinates: [[131.31142000000006, 24.840570000000014], [131.31142000000006, 386.6516], [578.27482, 386.6516], [578.27482, 24.840570000000014]]\n"
     ]
    }
   ],
   "source": [
    "from superduperdb import Document\n",
    "\n",
    "# Use the SuperDuperDB model to generate a response based on the search term and context\n",
    "output, out = db.predict(\n",
    "    model_name='llm',\n",
    "    input=query,\n",
    "    context_select=chunk_collection.like(\n",
    "        Document({\"_outputs.elements.chunk\": query}),\n",
    "        vector_index=\"vector-index\",\n",
    "        n=5,\n",
    "    ).find({}),\n",
    "    context_key='_outputs.elements.chunk.0.txt',\n",
    ")\n",
    "\n",
    "# Get the reference links corresponding to the answer context\n",
    "datas = []\n",
    "page_messages = []\n",
    "for source in sorted(out, key=lambda x:x.content['score'], reverse=True):\n",
    "    chunk_data = source.outputs('elements', 'chunk')\n",
    "    metadata = chunk_data['metadata']\n",
    "    page_number = metadata['page_number']\n",
    "    points = metadata['points']\n",
    "    score = source[\"score\"]\n",
    "    message = f\"page_number: {page_number}, score: {score:3f}, coordinates: {points}\"\n",
    "    page_messages.append(message)\n",
    "    \n",
    "\n",
    "# Display the generated response using Markdown\n",
    "print(output.content)\n",
    "print(\"\\n\".join(page_messages))"
   ]
  },
  {
   "cell_type": "code",
   "execution_count": null,
   "id": "2b7cbf50-dd7d-4148-80a8-089ceee5c992",
   "metadata": {},
   "outputs": [],
   "source": []
  }
 ],
 "metadata": {
  "kernelspec": {
   "display_name": "Python 3 (ipykernel)",
   "language": "python",
   "name": "python3"
  },
  "language_info": {
   "codemirror_mode": {
    "name": "ipython",
    "version": 3
   },
   "file_extension": ".py",
   "mimetype": "text/x-python",
   "name": "python",
   "nbconvert_exporter": "python",
   "pygments_lexer": "ipython3",
   "version": "3.10.13"
  }
 },
 "nbformat": 4,
 "nbformat_minor": 5
}
